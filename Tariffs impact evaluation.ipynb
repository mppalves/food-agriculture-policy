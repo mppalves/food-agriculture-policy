{
  "cells": [
    {
      "metadata": {
        "_uuid": "6342995fa2d2aecad4d2a7679ab15937cc074eda",
        "_execution_state": "idle",
        "trusted": true
      },
      "cell_type": "markdown",
      "source": "**Ad Valorum and Specific tariffs impact evaluation**\n\n**Problem description**\nCountry A and country B are both producers and consumers of a good. In the model below I want to evaluate the impact of free trade on the welfare of consumers and producers of both countries and, how that changed after the introduction of tariffs on the importing country. In this example, we tested the effects of Ad Valorem (20%) and Specific (2 units) tariffs. \n\nThe demand and supply curves of the two countries are described below:\n![](https://raw.githubusercontent.com/mppalves/food-agriculture-policy/master/img/Equations.png)"
    },
    {
      "metadata": {
        "_uuid": "1459113bbbf8828bb7c250514fec3413824a4566"
      },
      "cell_type": "markdown",
      "source": "**Step 1 **\n\nLoading libraries"
    },
    {
      "metadata": {
        "trusted": true,
        "_uuid": "a6b9abe7a4f72a49694200398f28bcaf04fae6ec"
      },
      "cell_type": "code",
      "source": "library(\"rootSolve\")\nlibrary('ggplot2')\nlibrary('gridExtra')\n",
      "execution_count": null,
      "outputs": []
    },
    {
      "metadata": {
        "_uuid": "72e47a0c40e897a803a658db61e83b401a3c14fe"
      },
      "cell_type": "markdown",
      "source": "**Step 2 - Defining the supply and demand functions in R **\n\nParametrization of the supply and demand functions for countries A and B"
    },
    {
      "metadata": {
        "trusted": true,
        "_uuid": "024dc278430f1e9b7a2277df9f4777b0d31b5627"
      },
      "cell_type": "code",
      "source": "a0a = 1\na1a = 3\na2a = -0.9\nb0a = 5\nb1a = -0.5\nb2a = 1.2\na0b = 11\na1b = 1.2\na2b = -0.8\nb0b = 40\nb1b = -0.5 \nb2b = 0.9\nia = 10\nib = 10\nwa = 2\nwb = 2",
      "execution_count": null,
      "outputs": []
    },
    {
      "metadata": {
        "_uuid": "990e19c031e064105f5677b2be041cdf113e97df"
      },
      "cell_type": "markdown",
      "source": "Defining supply and demand functions for countries and A and B"
    },
    {
      "metadata": {
        "trusted": true,
        "_uuid": "6244ce09828edc78545535bc941f345f1710490d"
      },
      "cell_type": "code",
      "source": "#Supply function country A\nSa = function(x){\n  a = ((a0a*(x)^a1a)*(wa)^a2a)\n}\n\n#Demand function country A \nDa = function(x){\n  b = ((b0a*(x)^b1a)*(ia)^b2a)\n}\n\n#Supply function country B\nSb = function(x){\n  c = ((a0b*(x)^a1b)*(wb)^a2b)\n}\n\n#Demand function country B \nDb = function(x){\n  d = ((b0b*(x)^b1b)*(ib)^b2b)\n}\n",
      "execution_count": null,
      "outputs": []
    },
    {
      "metadata": {
        "_uuid": "15aa506ff0c205d711489559dcd70fd8384bdd06"
      },
      "cell_type": "markdown",
      "source": "**Step 3 - Autarky equilibrium **\n\nBy setting supply and demand equal to each other we are able to calculate the price and quantity demanded in each country separately. "
    },
    {
      "metadata": {
        "trusted": true,
        "_uuid": "764d7b78eca316d311d8846e25d256f94e5ecccc"
      },
      "cell_type": "code",
      "source": "#finding the price in country A\nautarkyPriceCountryA = function(inputs) {\n  pa = inputs[1]\n  qa = inputs[2]\n  \n  s = Sa(pa) - qa\n  d = Da(pa) - qa\n  \n  return(c(s,d))\n}\n\nSolA = multiroot(autarkyPriceCountryA, c(1,1));\npa = SolA$root[1];\nqa = SolA$root[2];\n\n\n#finding the price in country B\nautarkyPriceCountryB = function(inputs) {\n  pb=inputs[1]\n  qb=inputs[2]\n  \n  s = Sb(pb) - qb\n  d = Db(pb) - qb\n  \n  return(c(s,d))\n}\n\nSolb = multiroot(autarkyPriceCountryB, c(1,1));\npb = Solb$root[1];\nqb = Solb$root[2];",
      "execution_count": null,
      "outputs": []
    },
    {
      "metadata": {
        "_uuid": "01cb5bcb392600b4400eb3a9656cd823e42aea5c"
      },
      "cell_type": "markdown",
      "source": "1. **Price country A**=\t4.168411\n1. **Price country B**=\t10.02022\n1. **Demand (quantity) country A**=\t38.81367\n1. **Demand (quantity) country B**=\t100.374\n"
    },
    {
      "metadata": {
        "_uuid": "d691358f2a504a1c32e52273d705f09dc529b5ef"
      },
      "cell_type": "markdown",
      "source": "As can be observed above, country A has a lower autarky price, therefore there is an incentive for it to sell their product in country B, where a higher price can be obtained. Therefore, country A is the exporter and country B is the importer."
    },
    {
      "metadata": {
        "_uuid": "b2bad68cb748e2a6ed60dce808145ef88dee5c45"
      },
      "cell_type": "markdown",
      "source": "**Step 4 - Defining world equilibrium equations**\n\nAfter finding the exporting and importing countries the excess supply and excess demand functions were defined:"
    },
    {
      "metadata": {
        "trusted": true,
        "_uuid": "973522e28937d423e1c8216dcdee9f314f799407"
      },
      "cell_type": "code",
      "source": "#excess supply country A\nES = function(x){\n  d = ((a0a*(x)^a1a)*(wa)^a2a) - ((b0a*(x)^b1a)*(ia)^b2a)\n}\n\n#excess demand country B\nED = function(x){\n  b = ((b0b*(x)^b1b)*(ib)^b2b) - ((a0b*(x)^a1b)*(wb)^a2b)\n}\n\n#excess demand country B, plus tariff type function switch\nEDt = function(x){\n  \n  if (ad_valorum) {\n    x =  x*(1+pi);\n  }else{\n    x = x + t;\n  }\n  \n  b = ((b0b*(x)^b1b)*(ib)^b2b) - ((a0b*(x)^a1b)*(wb)^a2b)\n}",
      "execution_count": null,
      "outputs": []
    },
    {
      "metadata": {
        "_uuid": "5b263f1849399e237a23f8136efbc16e54afff7c"
      },
      "cell_type": "markdown",
      "source": "Calculating the world equilibrium price and quantity using the multiroot function and the excess supply and demand functions."
    },
    {
      "metadata": {
        "trusted": true,
        "_uuid": "c7d2b7b497bbad8a09ed5be52e66a92d1c1e739c"
      },
      "cell_type": "code",
      "source": "#finding the world price\nautarkyPriceWorld = function(inputs) {\n  pw=inputs[1]\n  qw=inputs[2]\n  \n  ES = Sa(pw) - Da(pw) - qw\n  ED = Db(pw) - Sb(pw) - qw\n \n  return(c(ES,ED))\n}\n\nsolw = multiroot(autarkyPriceWorld, c(1,1))\n\n#quantities (q) /prices (p)\npw = solw$root[1];\nqw = solw$root[2];\n\n#pw = world price\n#qw = world demand ",
      "execution_count": null,
      "outputs": []
    },
    {
      "metadata": {
        "_uuid": "a79c1f0339563f8dca58bf3f07770b83502bc853"
      },
      "cell_type": "markdown",
      "source": "1. **World price** = 5.902626\n1. **World demand** (quantity) = 77.58966\n"
    },
    {
      "metadata": {
        "_uuid": "db2becc381a4288f8100939a2bc43deff7e15c78"
      },
      "cell_type": "markdown",
      "source": "**Step 5 - Welfare analysis **\n\nTo calculate the welfare changes in both countries, one should integrate the area under the supply and demand curves in Quantity/Price space representative of the changes in welfare. the integral functions are shown below:\n![](https://raw.githubusercontent.com/mppalves/food-agriculture-policy/master/img/integrals.png)\n"
    },
    {
      "metadata": {
        "trusted": true,
        "_uuid": "ba58ece1547ac1fa07d7e4ba8b58c25942828fa5"
      },
      "cell_type": "code",
      "source": "#Welfare analysis\nWelfareConsumersCountryA = ia^b2a*b0a*((pa^(b1a+1))/(b1a+1)) - ia^b2a*b0a*((pw^(b1a+1))/(b1a+1));\nWelfareConsumersCountryB = ib^b2b*b0b*((pb^(b1b+1))/(b1b+1)) - ib^b2b*b0b*((pw^(b1b+1))/(b1b+1));\n\nWelfareProducersCountryA = wa^a2a*a0a*((pw^(a1a+1))/(a1a+1)) - wa^a2a*a0a*((pa^(a1a+1))/(a1a+1));\nWelfareProducersCountryB = wb^a2b*a0b*((pw^(a1b+1))/(a1b+1)) - wb^a2b*a0b*((pb^(a1b+1))/(a1b+1));\n\n#Net welfare \nNetWelfareCountryA = WelfareConsumersCountryA + WelfareProducersCountryA;\nNetWelfareCountryB = WelfareConsumersCountryB + WelfareProducersCountryB;\nworldWelfare = NetWelfareCountryB + NetWelfareCountryA;\n\n#welfare changes in country A\nWelfareConsumersCountryA\nWelfareProducersCountryA\nNetWelfareCountryA\n\n#welfare changes in country B\nWelfareConsumersCountryB\nWelfareProducersCountryB\nNetWelfareCountryB\n\n#Net welfare for the world\nworldWelfare",
      "execution_count": null,
      "outputs": []
    },
    {
      "metadata": {
        "_uuid": "c9e48c043aaec251a7186ec1aa09f029c02ffe36"
      },
      "cell_type": "markdown",
      "source": "**Step 6 - Calculating the impact of the tariffs on prices and qauntities**\n\nThe impact of two tariff regimes was analyzed: an ad Valorem of 13% and a specific tariff of 2. The prices and quantities traded in the international market were analyzed using an equilibrium model considering the price linkage equations:\n\n        **Price B **= Price A + Specific tariff\n\n        or\n\n        **Price B** = Price A * (1+ Ad valorum)\n"
    },
    {
      "metadata": {
        "trusted": true,
        "scrolled": true,
        "_uuid": "f5e6d322079523cdb1965fc70d1e8155236e69ba"
      },
      "cell_type": "code",
      "source": "####Tariff Set up####\nad_valorum = F\n#tariffs \nt = 2\npi = 0.2\n\n####Tariff evaluation####\n#finding the world price with tatiffs\nautarkyPriceWorld = function(inputs) {\n  pat=inputs[1]\n  qwt=inputs[2]\n\n \n  if (ad_valorum) {\n    pbt = pat*(1+pi)\n  }else{\n    pbt = pat + t\n  }\n \n  \n  ES = Sa(pat) - Da(pat) - qwt\n  ED = Db(pbt) - Sb(pbt) - qwt\n \n  \n  return(c(ES,ED))\n}\nsolw = multiroot(autarkyPriceWorld, c(1,1))\n    pat = solw$root[1];\n    qwt = solw$root[2];\n\n\n    if (ad_valorum) {\n      pbt =  pat*(1+pi);\n      Eq = \"Ad valorum\"\n    }else{\n      pbt = pat + t;\n      Eq = \"Specific\"\n    }\n#quantities (q) and prices (p) after tariffs\n#Type of tariff = Eq\n\n#price in country A after tariff = pat\n\n#world price = qwt\n\n#price in country B after tariff = pbt",
      "execution_count": null,
      "outputs": []
    },
    {
      "metadata": {
        "_uuid": "b64abb95a276465a96f6e3706adc37dcd0949306"
      },
      "cell_type": "markdown",
      "source": "**Table 1 **- Prices and quantity traded in the Free trade, Ad Valorem and Specific tariff scenarios\n\n                           Free trade\tAd Valorum Tariff Specific Tariff\n                                                                          \n    Price Country A        5.902626         5.597404       5.352856\n    Quantity Traded World  77.58966         60.4847        47.94073\n    Price Country B\t    5.902626         6.716884       7.352856\n\n"
    },
    {
      "metadata": {
        "_uuid": "ce04161c1825c6a0dfeae8904ac7a19c5916bf4a"
      },
      "cell_type": "markdown",
      "source": "**Step 7 - Analysing the impact of the tariffs in the welfare**\n\nWith the new prices and quantities calculated, it is possible to calculate the impact of the two tariffs in the welfare of the two countries and the world. The welfare changes were analyzed by integrating the areas below the supply and demand curves of the countries A and B.\n\n\n"
    },
    {
      "metadata": {
        "trusted": true,
        "_uuid": "15d64571ac700ad69b075c2925aba2a3363accde"
      },
      "cell_type": "code",
      "source": "####Changes in Welfare ####\n\n#Welfare analysis\nWelfareConsumersCountryA = ia^b2a*b0a*((pw^(b1a+1))/(b1a+1)) - ia^b2a*b0a*((pat^(b1a+1))/(b1a+1));\nWelfareConsumersCountryB = ib^b2b*b0b*((pw^(b1b+1))/(b1b+1)) - ib^b2b*b0b*((pbt^(b1b+1))/(b1b+1));\n\nGovernmentRevenue = qwt*(pbt-pat)\n\nWelfareProducersCountryA = wa^a2a*a0a*((pat^(a1a+1))/(a1a+1)) - wa^a2a*a0a*((pw^(a1a+1))/(a1a+1));\nWelfareProducersCountryB = wb^a2b*a0b*((pbt^(a1b+1))/(a1b+1)) - wb^a2b*a0b*((pw^(a1b+1))/(a1b+1));\n\n#Net welfare \nNetWelfareCountryA = WelfareConsumersCountryA + WelfareProducersCountryA;\nNetWelfareCountryB = WelfareConsumersCountryB + WelfareProducersCountryB + GovernmentRevenue;\nworldWelfare = NetWelfareCountryB + NetWelfareCountryA;\n\n#Welfare changes for country A\nWelfareConsumersCountryA\nWelfareProducersCountryA\nNetWelfareCountryA\n\n#Welfare changes for country B\nWelfareConsumersCountryB\nWelfareProducersCountryB\nNetWelfareCountryB\nGovernmentRevenue\n\n#World welfare change\nworldWelfare\n",
      "execution_count": null,
      "outputs": []
    },
    {
      "metadata": {
        "_uuid": "129daf994fe1b26c37ea000176991918d4d0ccc8"
      },
      "cell_type": "markdown",
      "source": "**Welfare changes**\n![](https://raw.githubusercontent.com/mppalves/food-agriculture-policy/master/img/Welfare table.png)"
    },
    {
      "metadata": {
        "_uuid": "85f85246b56ccd7897e4f0ca8f5d3ab134e3b49d"
      },
      "cell_type": "markdown",
      "source": "\n**Step 8 - Drawing the graphs of the two tariffs**"
    },
    {
      "metadata": {
        "trusted": true,
        "scrolled": true,
        "_uuid": "8c5b9ff1f3456daa0ab4ffca67b7c4062695f8c2"
      },
      "cell_type": "code",
      "source": "\nAutarky_A <- ggplot(data.frame(x=c(1.8, 11)), aes(x)) + \n  stat_function(fun=Da, size = 0.8) + \n  stat_function(fun=Sa, size = 0.8) +\n  ylim(0, 200) +\n  ggtitle(\"Autarky equilibrium Country A\")  +\n  labs(x = \"Price\", y = \"Qty\") +\n  geom_vline(xintercept=pat, linetype=\"dashed\", color = \"dark green\") +\n  geom_vline(xintercept=pw, linetype=\"dashed\", color = \"blue\") +\n  geom_text(aes(x=pat-0.15, y=5, label=paste(\"Pat =\",round(pat, digits=2))),size = 3) +\n  geom_text(aes(x=pw+0.2, y=5, label=paste(\"Pw =\",round(pw, digits=2))),size = 3) +\n  geom_text(aes(x=(pw-pat)/2+pat, y=Da(pat)-Da(pat)*0.2, label=\"1\"),size = 3) +\n  geom_text(aes(x=(pw-pat)/2+pat, y=(Sa(pat)-Da(pat))/2 + Da(pat), label=\"2\"),size = 3) +\n  coord_flip();Autarky_A\n\nAutarky_B <- ggplot(data.frame(x=c(1.8, 11)), aes(x)) + \n  stat_function(fun=Sb, size = 0.8) + \n  stat_function(fun=Db, size = 0.8) + \n  ylim(0, 200) +\n  ggtitle(\"Autarky equilibrium Country B\") +\n  labs(x = \"Price\", y = \"Qty\") +\n  geom_vline(xintercept=pbt, linetype=\"dashed\", color = \"red\") +\n  geom_vline(xintercept=pw, linetype=\"dashed\", color = \"blue\") +\n  geom_vline(xintercept=pat, linetype=\"dashed\", color = \"dark green\") +\n  geom_text(aes(x=pat-0.15, y=5, label=paste(\"Pat =\",round(pat, digits=2))),size = 3) +\n  geom_text(aes(x=pbt+0.2, y=5, label=paste(\"Pbt =\",round(pbt, digits=2))),size = 3) +\n  geom_text(aes(x=pw+0.2, y=5, label=paste(\"Pw =\",round(pw, digits=2))),size = 3) +\n  geom_segment(aes(x=pbt, xend=2, y=Sb(pbt), yend=Sb(pbt))) +\n  geom_segment(aes(x=pbt, xend=2, y=Db(pbt), yend=Db(pbt))) +\n  geom_text(aes(x=(pw-pbt)/2+pbt-0.1, y=Sb(pw)-Sb(pw)*0.2, label=\"3\"),size = 3) +\n  geom_text(aes(x=(pw-pbt)/2+pbt-0.1, y=Sb(pw)+Sb(pw)*ab, label=\"4\"),size = 3) +\n  geom_text(aes(x=(pw-pbt)/2+pbt-0.1, y=Db(pw)-Db(pw)*ad, label=\"6\"),size = 3) +\n  geom_text(aes(x=(pw-pbt)/2+pbt-0.1, y=(Db(pw)-Sb(pw))/2 + Sb(pw), label=\"5\"),size = 3) +\n  geom_text(aes(x=(pw-pat)/2+pat, y=(Db(pw)-Sb(pw))/2 + Sb(pw), label=\"7\"),size = 3) +\n  geom_text(aes(x=1.8, y=Sb(pbt), label=paste(\"Sbt =\", round(Sb(pbt), digits=2))),size = 3) +\n  geom_text(aes(x=1.8, y=Db(pbt), label=paste(\"Dbt =\", round(Db(pbt), digits=2))),size = 3) + \n  coord_flip() ;Autarky_B\n\nAutarky_W <- ggplot(data.frame(x=c(1.8, 11)), aes(x)) + \n  stat_function(fun=ES, size = 0.8) + \n  stat_function(fun=ED, size = 0.8) +\n  stat_function(fun=EDt, size = 0.8 , color = \"red\") +\n  ylim(0, 200) +\n  ggtitle(paste(\"World equilibrium tax\",Eq)) +\n  labs(x = \"Price\", y = \"Qty\") +\n  geom_vline(xintercept=pat, linetype=\"dashed\", color = \"dark green\") +\n  geom_vline(xintercept=pbt, linetype=\"dashed\", color = \"red\") +\n  geom_vline(xintercept=pw, linetype=\"dashed\", color = \"blue\") +\n  geom_text(aes(x=pat-0.15, y=5, label=paste(\"Pat =\", round(pat, digits=2))),size = 3) +\n  geom_text(aes(x=pbt+0.2, y=5, label=paste(\"Pbt =\", round(pbt, digits=2))),size = 3) +\n  geom_text(aes(x=pw+0.2, y=5, label=paste(\"Pw =\", round(pw, digits=2))),size = 3) +\n  geom_segment(aes(x=pbt, xend=2, y=qwt, yend=qwt), color = \"red\") +\n  geom_segment(aes(x=pw, xend=2, y=qw, yend=qw)) +\n  geom_text(aes(x=1.8, y=qwt-10, label=paste(\"Qwt =\", round(qwt, digits=2))),size = 3) +\n  geom_text(aes(x=1.8, y=qw+10, label=paste(\"Qw =\", round(qw, digits=2))),size = 3) +\n  coord_flip();Autarky_W\n",
      "execution_count": null,
      "outputs": []
    },
    {
      "metadata": {
        "_uuid": "980a242b2338218522ed66c8deec351ebc756823"
      },
      "cell_type": "markdown",
      "source": "![](https://raw.githubusercontent.com/mppalves/food-agriculture-policy/master/img/Specific%20impact%20evaluation.png)\n![](https://raw.githubusercontent.com/mppalves/food-agriculture-policy/master/img/Ad%20valorum%20impact%20evaluation.png)\n\n**Conclusion**\n\nIn conclusion, the implementation of any of the taxes evaluated reduced volume traded internationally, created a wedge between the prices in both countries and reduced the net welfare in both countries and the world. In our example, the effect of the specific tariff was greater, once the tariff value (pbt – pat = 2) had a bigger impact in the price than the ad valorum tariff (pbt – pat = 1.12)."
    }
  ],
  "metadata": {
    "kernelspec": {
      "display_name": "R",
      "language": "R",
      "name": "ir"
    },
    "language_info": {
      "mimetype": "text/x-r-source",
      "name": "R",
      "pygments_lexer": "r",
      "version": "3.4.2",
      "file_extension": ".r",
      "codemirror_mode": "r"
    }
  },
  "nbformat": 4,
  "nbformat_minor": 1
}
